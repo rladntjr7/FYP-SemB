{
 "cells": [
  {
   "cell_type": "code",
   "execution_count": 1,
   "metadata": {},
   "outputs": [],
   "source": [
    "import numpy as np\n",
    "import cv2 as cv\n",
    "\n",
    "def read(image_path, label_path):\n",
    "    image = cv.imread(image_path)\n",
    "    image = cv.resize(image, (640, 640))\n",
    "    image /= 255.0\n",
    "\n",
    "    label = np.zeros((80, 80, 18))\n",
    "    with open(label_path, 'r') as f:\n",
    "        for line in f:\n",
    "            line = line.split()\n",
    "            if line[0] != 0:\n",
    "                continue\n",
    "            x, y, w, h = float(line[1]), float(line[2]), float(line[3]), float(line[4])\n",
    "            if label[int(y * 80)][int(x * 80)][0] == 0:\n",
    "                label[int(y * 80)][int(x * 80)][0:6] = [1, x, y, w, h, 1]\n",
    "            elif label[int(y * 80)][int(x * 80)][6] == 0:\n",
    "                label[int(y * 80)][int(x * 80)][6:12] = [1, x, y, w, h, 1]\n",
    "            elif label[int(y * 80)][int(x * 80)][12] == 0:\n",
    "                label[int(y * 80)][int(x * 80)][12:18] = [1, x, y, w, h, 1]\n",
    "            else:\n",
    "                continue\n",
    "\n",
    "    return image, label"
   ]
  }
 ],
 "metadata": {
  "kernelspec": {
   "display_name": "Python 3",
   "language": "python",
   "name": "python3"
  },
  "language_info": {
   "codemirror_mode": {
    "name": "ipython",
    "version": 3
   },
   "file_extension": ".py",
   "mimetype": "text/x-python",
   "name": "python",
   "nbconvert_exporter": "python",
   "pygments_lexer": "ipython3",
   "version": "3.10.5"
  },
  "orig_nbformat": 4,
  "vscode": {
   "interpreter": {
    "hash": "18eea27f2ecd1372e7523d40c6723d85a9133497456635c0a0bd814672b5b852"
   }
  }
 },
 "nbformat": 4,
 "nbformat_minor": 2
}
