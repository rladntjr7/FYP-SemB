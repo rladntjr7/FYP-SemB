{
 "cells": [
  {
   "cell_type": "code",
   "execution_count": 11,
   "metadata": {},
   "outputs": [],
   "source": [
    "import cv2 as cv"
   ]
  },
  {
   "cell_type": "code",
   "execution_count": 12,
   "metadata": {},
   "outputs": [
    {
     "data": {
      "text/plain": [
       "13"
      ]
     },
     "execution_count": 12,
     "metadata": {},
     "output_type": "execute_result"
    }
   ],
   "source": [
    "#import image\n",
    "img = cv.imread('Train/11/images/11_frame_0.jpg')\n",
    "\n",
    "#check image\n",
    "cv.imshow('image', img)\n",
    "cv.waitKey(0)"
   ]
  },
  {
   "cell_type": "code",
   "execution_count": 13,
   "metadata": {},
   "outputs": [
    {
     "data": {
      "text/plain": [
       "13"
      ]
     },
     "execution_count": 13,
     "metadata": {},
     "output_type": "execute_result"
    }
   ],
   "source": [
    "#read text file\n",
    "with open('Train/11/labels/11_frame_0.txt') as f:\n",
    "    content = f.readlines()\n",
    "\n",
    "for i in content:\n",
    "    a = i.split()\n",
    "    #change to pixel coordinates\n",
    "    centerX = float(a[1]) * 640\n",
    "    centerY = float(a[2]) * 480\n",
    "    width = float(a[3]) * 640\n",
    "    height = float(a[4]) * 480\n",
    "    #change to rectangle coordinates\n",
    "    a[1] = centerX - width/2    \n",
    "    a[2] = centerY - height/2\n",
    "    a[3] = centerX + width/2\n",
    "    a[4] = centerY + height/2\n",
    "\n",
    "    #draw rectangle\n",
    "    cv.rectangle(img, (int(a[1]), int(a[2])), (int(a[3]), int(a[4])), (0, 255, 0), 2)\n",
    "\n",
    "#check image\n",
    "cv.imshow('image', img)\n",
    "cv.waitKey(0)"
   ]
  },
  {
   "cell_type": "code",
   "execution_count": null,
   "metadata": {},
   "outputs": [],
   "source": []
  }
 ],
 "metadata": {
  "kernelspec": {
   "display_name": "Python 3.10.5 64-bit",
   "language": "python",
   "name": "python3"
  },
  "language_info": {
   "codemirror_mode": {
    "name": "ipython",
    "version": 3
   },
   "file_extension": ".py",
   "mimetype": "text/x-python",
   "name": "python",
   "nbconvert_exporter": "python",
   "pygments_lexer": "ipython3",
   "version": "3.10.5 (tags/v3.10.5:f377153, Jun  6 2022, 16:14:13) [MSC v.1929 64 bit (AMD64)]"
  },
  "orig_nbformat": 4,
  "vscode": {
   "interpreter": {
    "hash": "18eea27f2ecd1372e7523d40c6723d85a9133497456635c0a0bd814672b5b852"
   }
  }
 },
 "nbformat": 4,
 "nbformat_minor": 2
}
