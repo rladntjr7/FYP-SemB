{
 "cells": [
  {
   "cell_type": "code",
   "execution_count": 5,
   "metadata": {},
   "outputs": [
    {
     "name": "stdout",
     "output_type": "stream",
     "text": [
      "Image tensor 0 saved\n",
      "Image tensor 1 saved\n"
     ]
    },
    {
     "ename": "KeyboardInterrupt",
     "evalue": "",
     "output_type": "error",
     "traceback": [
      "\u001b[1;31m---------------------------------------------------------------------------\u001b[0m",
      "\u001b[1;31mKeyboardInterrupt\u001b[0m                         Traceback (most recent call last)",
      "Cell \u001b[1;32mIn [5], line 34\u001b[0m\n\u001b[0;32m     31\u001b[0m     k \u001b[39m+\u001b[39m\u001b[39m=\u001b[39m \u001b[39m1\u001b[39m\n\u001b[0;32m     33\u001b[0m \u001b[39m#Save tensor\u001b[39;00m\n\u001b[1;32m---> 34\u001b[0m np\u001b[39m.\u001b[39;49msave(\u001b[39m\"\u001b[39;49m\u001b[39mimage_tensor_\u001b[39;49m\u001b[39m\"\u001b[39;49m \u001b[39m+\u001b[39;49m \u001b[39mstr\u001b[39;49m(i), image_tensor)\n\u001b[0;32m     35\u001b[0m \u001b[39mprint\u001b[39m(\u001b[39m\"\u001b[39m\u001b[39mImage tensor \u001b[39m\u001b[39m\"\u001b[39m \u001b[39m+\u001b[39m \u001b[39mstr\u001b[39m(i) \u001b[39m+\u001b[39m \u001b[39m\"\u001b[39m\u001b[39m saved\u001b[39m\u001b[39m\"\u001b[39m)\n",
      "File \u001b[1;32m<__array_function__ internals>:180\u001b[0m, in \u001b[0;36msave\u001b[1;34m(*args, **kwargs)\u001b[0m\n",
      "File \u001b[1;32mc:\\Users\\dntjr\\AppData\\Local\\Programs\\Python\\Python310\\lib\\site-packages\\numpy\\lib\\npyio.py:502\u001b[0m, in \u001b[0;36msave\u001b[1;34m(file, arr, allow_pickle, fix_imports)\u001b[0m\n\u001b[0;32m    500\u001b[0m \u001b[39mwith\u001b[39;00m file_ctx \u001b[39mas\u001b[39;00m fid:\n\u001b[0;32m    501\u001b[0m     arr \u001b[39m=\u001b[39m np\u001b[39m.\u001b[39masanyarray(arr)\n\u001b[1;32m--> 502\u001b[0m     \u001b[39mformat\u001b[39;49m\u001b[39m.\u001b[39;49mwrite_array(fid, arr, allow_pickle\u001b[39m=\u001b[39;49mallow_pickle,\n\u001b[0;32m    503\u001b[0m                        pickle_kwargs\u001b[39m=\u001b[39;49m\u001b[39mdict\u001b[39;49m(fix_imports\u001b[39m=\u001b[39;49mfix_imports))\n",
      "File \u001b[1;32mc:\\Users\\dntjr\\AppData\\Local\\Programs\\Python\\Python310\\lib\\site-packages\\numpy\\lib\\format.py:689\u001b[0m, in \u001b[0;36mwrite_array\u001b[1;34m(fp, array, version, allow_pickle, pickle_kwargs)\u001b[0m\n\u001b[0;32m    687\u001b[0m \u001b[39melse\u001b[39;00m:\n\u001b[0;32m    688\u001b[0m     \u001b[39mif\u001b[39;00m isfileobj(fp):\n\u001b[1;32m--> 689\u001b[0m         array\u001b[39m.\u001b[39;49mtofile(fp)\n\u001b[0;32m    690\u001b[0m     \u001b[39melse\u001b[39;00m:\n\u001b[0;32m    691\u001b[0m         \u001b[39mfor\u001b[39;00m chunk \u001b[39min\u001b[39;00m numpy\u001b[39m.\u001b[39mnditer(\n\u001b[0;32m    692\u001b[0m                 array, flags\u001b[39m=\u001b[39m[\u001b[39m'\u001b[39m\u001b[39mexternal_loop\u001b[39m\u001b[39m'\u001b[39m, \u001b[39m'\u001b[39m\u001b[39mbuffered\u001b[39m\u001b[39m'\u001b[39m, \u001b[39m'\u001b[39m\u001b[39mzerosize_ok\u001b[39m\u001b[39m'\u001b[39m],\n\u001b[0;32m    693\u001b[0m                 buffersize\u001b[39m=\u001b[39mbuffersize, order\u001b[39m=\u001b[39m\u001b[39m'\u001b[39m\u001b[39mC\u001b[39m\u001b[39m'\u001b[39m):\n",
      "\u001b[1;31mKeyboardInterrupt\u001b[0m: "
     ]
    }
   ],
   "source": [
    "from PIL import Image\n",
    "import numpy as np\n",
    "\n",
    "directoryNumbers = [11,12,13,14,15,19,21,22,23,24,29,30,35,36,38,47,52,54,60,82]\n",
    "imageCount = [1470, 1470, 1470, 1470, 1470, 1470, 1470, 1470, 1470, 1470, 1470, 1470, 1440, 1470, 1470, 1470, 1440, 1470, 1470, 1500]\n",
    "\n",
    "for i in range(10):\n",
    "    #Shape of the tensor\n",
    "    perBatches = imageCount[2*i-2] + imageCount[2*i-1]\n",
    "    image_tensor_shape = (perBatches, 640, 640, 3) # the image will be resized to a square\n",
    "    output_tensor_shape = (perBatches, 80, 80, 18)\n",
    "\n",
    "    #Make empty tensors\n",
    "    image_tensor = np.zeros(image_tensor_shape, dtype=np.uint8)\n",
    "    output_tensor = np.zeros(output_tensor_shape, dtype=np.uint8)\n",
    "\n",
    "    #Load images into tensor\n",
    "    k = 0\n",
    "    for j in range(imageCount[2*i-2]):\n",
    "        path = \"Train/\" + str(directoryNumbers[2*i-2]) + \"/images/\" + str(directoryNumbers[2*i-2]) + \"_frame_\" + str(j) + \".jpg\"\n",
    "        image = Image.open(path)\n",
    "        image = image.resize((640, 640))\n",
    "        image_tensor[k] = np.array(image)\n",
    "        k += 1\n",
    "    \n",
    "    for j in range(imageCount[2*i-1]):\n",
    "        path = \"Train/\" + str(directoryNumbers[2*i-1]) + \"/images/\" + str(directoryNumbers[2*i-1]) + \"_frame_\" + str(j) + \".jpg\"\n",
    "        image = Image.open(path)\n",
    "        image = image.resize((640, 640))\n",
    "        image_tensor[k] = np.array(image)\n",
    "        k += 1\n",
    "    \n",
    "    #Save tensor\n",
    "    np.save(\"image_tensor_\" + str(i), image_tensor)\n",
    "    print(\"Image tensor \" + str(i) + \" saved\")\n",
    "\n",
    "        \n"
   ]
  },
  {
   "cell_type": "code",
   "execution_count": null,
   "metadata": {},
   "outputs": [],
   "source": [
    "# load labels and save them as tensors\n"
   ]
  }
 ],
 "metadata": {
  "kernelspec": {
   "display_name": "Python 3",
   "language": "python",
   "name": "python3"
  },
  "language_info": {
   "codemirror_mode": {
    "name": "ipython",
    "version": 3
   },
   "file_extension": ".py",
   "mimetype": "text/x-python",
   "name": "python",
   "nbconvert_exporter": "python",
   "pygments_lexer": "ipython3",
   "version": "3.10.5"
  },
  "orig_nbformat": 4,
  "vscode": {
   "interpreter": {
    "hash": "18eea27f2ecd1372e7523d40c6723d85a9133497456635c0a0bd814672b5b852"
   }
  }
 },
 "nbformat": 4,
 "nbformat_minor": 2
}
