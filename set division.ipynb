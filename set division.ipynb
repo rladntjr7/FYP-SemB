{
 "cells": [
  {
   "cell_type": "code",
   "execution_count": null,
   "metadata": {},
   "outputs": [],
   "source": [
    "import tensorflow as tf\n",
    "import numpy as np\n",
    "\n",
    "total_image_count = 1470 * 17 + 1440 * 2 + 1500\n",
    "image_tensor_shape = (total_image_count, 640, 640, 3) # the image will be resized to a square\n",
    "output_tensor_shape = (total_image_count, 80, 80, 18)\n",
    "\n",
    "#import images to a np array\n",
    "image_tensor = np.zeros(image_tensor_shape, dtype=np.uint8)\n",
    "output_tensor = np.zeros(output_tensor_shape, dtype=np.uint8)\n",
    "\n",
    "#load imag"
   ]
  },
  {
   "cell_type": "code",
   "execution_count": 2,
   "metadata": {},
   "outputs": [],
   "source": [
    "from PIL import Image\n",
    "from numpy import asarray\n",
    "\n",
    "image = Image.open(\"Train/11/images/11_frame_0.jpg\")\n",
    "data = asarray(image.resize((640, 640)))\n",
    "data1 = Image.fromarray(data)\n",
    "data1.save(\"11_frame_0_resized.jpg\")"
   ]
  },
  {
   "cell_type": "code",
   "execution_count": 2,
   "metadata": {},
   "outputs": [
    {
     "ename": "error",
     "evalue": "OpenCV(4.6.0) :-1: error: (-5:Bad argument) in function 'imshow'\n> Overload resolution failed:\n>  - mat is not a numpy array, neither a scalar\n>  - Expected Ptr<cv::cuda::GpuMat> for argument 'mat'\n>  - Expected Ptr<cv::UMat> for argument 'mat'\n",
     "output_type": "error",
     "traceback": [
      "\u001b[1;31m---------------------------------------------------------------------------\u001b[0m",
      "\u001b[1;31merror\u001b[0m                                     Traceback (most recent call last)",
      "Cell \u001b[1;32mIn [2], line 5\u001b[0m\n\u001b[0;32m      2\u001b[0m \u001b[39mimport\u001b[39;00m \u001b[39mcv2\u001b[39;00m \u001b[39mas\u001b[39;00m \u001b[39mcv\u001b[39;00m\n\u001b[0;32m      4\u001b[0m \u001b[39m# show the image\u001b[39;00m\n\u001b[1;32m----> 5\u001b[0m cv\u001b[39m.\u001b[39;49mimshow(\u001b[39m'\u001b[39;49m\u001b[39mimage\u001b[39;49m\u001b[39m'\u001b[39;49m, image)\n",
      "\u001b[1;31merror\u001b[0m: OpenCV(4.6.0) :-1: error: (-5:Bad argument) in function 'imshow'\n> Overload resolution failed:\n>  - mat is not a numpy array, neither a scalar\n>  - Expected Ptr<cv::cuda::GpuMat> for argument 'mat'\n>  - Expected Ptr<cv::UMat> for argument 'mat'\n"
     ]
    }
   ],
   "source": [
    "image.resize((640, 640))\n",
    "import cv2 as cv\n",
    "\n",
    "# show the image\n",
    "cv.imshow('image', image)"
   ]
  },
  {
   "cell_type": "code",
   "execution_count": null,
   "metadata": {},
   "outputs": [],
   "source": []
  }
 ],
 "metadata": {
  "kernelspec": {
   "display_name": "Python 3.10.5 64-bit",
   "language": "python",
   "name": "python3"
  },
  "language_info": {
   "codemirror_mode": {
    "name": "ipython",
    "version": 3
   },
   "file_extension": ".py",
   "mimetype": "text/x-python",
   "name": "python",
   "nbconvert_exporter": "python",
   "pygments_lexer": "ipython3",
   "version": "3.10.5"
  },
  "orig_nbformat": 4,
  "vscode": {
   "interpreter": {
    "hash": "18eea27f2ecd1372e7523d40c6723d85a9133497456635c0a0bd814672b5b852"
   }
  }
 },
 "nbformat": 4,
 "nbformat_minor": 2
}
